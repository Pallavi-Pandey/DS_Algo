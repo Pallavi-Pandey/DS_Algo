{
 "cells": [
  {
   "cell_type": "markdown",
   "id": "592032c7",
   "metadata": {},
   "source": [
    "\n",
    "https://leetcode.com/contest/weekly-contest-467/problems/earliest-time-to-finish-one-task/\n",
    "\n",
    "**Time Complexity: O(n)** where n is the number of tasks\n",
    "- We iterate through each task exactly once\n",
    "- Each iteration performs constant-time operations (addition and comparison)\n",
    "\n",
    "**Space Complexity: O(1)** \n",
    "- We only use a constant amount of extra space: the `ans` variable\n",
    "- No additional data structures are created that grow with input size"
   ]
  },
  {
   "cell_type": "code",
   "execution_count": 12,
   "id": "805ac5d4",
   "metadata": {},
   "outputs": [],
   "source": [
    "from typing import List\n",
    "\n",
    "class Solution:\n",
    "    def earliestTime(self, tasks: List[List[int]]) -> int:\n",
    "        ans = float('inf')\n",
    "\n",
    "        for start, end in tasks:\n",
    "            finish = start + end\n",
    "            if finish < ans:\n",
    "                ans = finish\n",
    "        return ans\n",
    "        "
   ]
  },
  {
   "cell_type": "markdown",
   "id": "b7df0c84",
   "metadata": {},
   "source": [
    "example `tasks = [[1,6],[2,3]]`:\n",
    "\n",
    "**Algorithm Explanation:**\n",
    "\n",
    "1. **Initialize:** Set `ans = float('inf')` (infinity) to track the minimum finish time\n",
    "\n",
    "2. **Process each task:**\n",
    "   - **Task [1,6]:** Start=1, Duration=6 → Finish=1+6=7\n",
    "     - Since 7 < ∞, update `ans = 7`\n",
    "   \n",
    "   - **Task [2,3]:** Start=2, Duration=3 → Finish=2+3=5\n",
    "     - Since 5 < 7, update `ans = 5`\n",
    "\n",
    "3. **Result:** The earliest finish time among all tasks is **5**\n",
    "\n",
    "**For your example:**\n",
    "- Task 1 finishes at time 7\n",
    "- Task 2 finishes at time 5\n",
    "- Therefore, the earliest time when any task finishes is **5**"
   ]
  },
  {
   "cell_type": "code",
   "execution_count": null,
   "id": "17998f97",
   "metadata": {},
   "outputs": [
    {
     "name": "stdout",
     "output_type": "stream",
     "text": [
      "5\n",
      "4\n",
      "5\n",
      "15\n"
     ]
    }
   ],
   "source": [
    "solution = Solution()\n",
    "print(solution.earliestTime([[1,6],[2,3]]))\n",
    "print(solution.earliestTime([[1, 3], [2, 2], [4, 1]]))\n",
    "print(solution.earliestTime([[0, 5], [3, 2], [1, 4]]))\n",
    "print(solution.earliestTime([[10, 5]]))\n"
   ]
  }
 ],
 "metadata": {
  "kernelspec": {
   "display_name": "Python 3",
   "language": "python",
   "name": "python3"
  },
  "language_info": {
   "codemirror_mode": {
    "name": "ipython",
    "version": 3
   },
   "file_extension": ".py",
   "mimetype": "text/x-python",
   "name": "python",
   "nbconvert_exporter": "python",
   "pygments_lexer": "ipython3",
   "version": "3.10.12"
  }
 },
 "nbformat": 4,
 "nbformat_minor": 5
}
