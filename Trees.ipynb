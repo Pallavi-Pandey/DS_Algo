{
 "cells": [
  {
   "cell_type": "markdown",
   "id": "87363d50",
   "metadata": {},
   "source": [
    "![alt text](image-14.png)"
   ]
  },
  {
   "cell_type": "markdown",
   "id": "a4841dfc",
   "metadata": {},
   "source": [
    "# Binary Tree"
   ]
  },
  {
   "cell_type": "code",
   "execution_count": null,
   "id": "f73ed600",
   "metadata": {},
   "outputs": [],
   "source": [
    "class Node:\n",
    "    def __init__(self, data):\n",
    "        self.data = data\n",
    "        self.children = []   # list to hold any number of child nodes\n",
    "\n",
    "    def add_child(self, child):\n",
    "        self.children.append(child)\n",
    "\n",
    "# Function to print tree in preorder (root → children)\n",
    "def print_tree(root, level=0):\n",
    "    if root is None:\n",
    "        return\n",
    "    print(\"  \" * level + str(root.data))   # indent by level\n",
    "    for child in root.children:\n",
    "        print_tree(child, level + 1)\n",
    "\n",
    "\n",
    "# Example usage\n",
    "if __name__ == \"__main__\":\n",
    "    root = Node(\"Root\")\n",
    "    child1 = Node(\"Child1\")\n",
    "    child2 = Node(\"Child2\")\n",
    "    child3 = Node(\"Child3\")\n",
    "\n",
    "    root.add_child(child1)\n",
    "    root.add_child(child2)\n",
    "    child1.add_child(child3)\n",
    "\n",
    "    print(\"Tree Structure:\")\n",
    "    print_tree(root)\n"
   ]
  }
 ],
 "metadata": {
  "language_info": {
   "name": "python"
  }
 },
 "nbformat": 4,
 "nbformat_minor": 5
}
