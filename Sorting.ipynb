{
 "cells": [
  {
   "cell_type": "markdown",
   "id": "9f07275b",
   "metadata": {},
   "source": [
    "![alt text](image-10.png)"
   ]
  },
  {
   "cell_type": "markdown",
   "id": "88ee82e8",
   "metadata": {},
   "source": [
    "# lets see the sort algo"
   ]
  },
  {
   "cell_type": "markdown",
   "id": "e0a7c8ea",
   "metadata": {
    "vscode": {
     "languageId": "plaintext"
    }
   },
   "source": [
    "# Bubble sort:\n",
    "- Bubble Sort is one of the simplest sorting algorithms.\n",
    "- It repeatedly compares adjacent elements and swaps them if they are in the wrong order.\n",
    "- After each full pass, the largest element \"bubbles up\" to the end of the list.\n",
    "\n",
    "# Time & Space Complexity\n",
    "- Time Complexity:\n",
    "    - Best Case (Already Sorted): O(n) → if we add an optimization check.\n",
    "    - Average Case: O(n²)\n",
    "    - Worst Case (Reverse Sorted): O(n²)\n",
    "\n",
    "- Space Complexity:\n",
    "    - O(1) → In-place sorting, no extra space."
   ]
  },
  {
   "cell_type": "code",
   "execution_count": 1,
   "id": "bbe01646",
   "metadata": {},
   "outputs": [
    {
     "name": "stdout",
     "output_type": "stream",
     "text": [
      "Unsorted: [64, 34, 25, 12, 22, 11, 90]\n",
      "Sorted: [11, 12, 22, 25, 34, 64, 90]\n"
     ]
    }
   ],
   "source": [
    "def bubble_sort(arr):\n",
    "    n = len(arr)\n",
    "    for i in range(n):  # Loop for passes\n",
    "        for j in range(0, n - i - 1):  # Compare until last sorted part\n",
    "            if arr[j] > arr[j + 1]:  # Swap if wrong order\n",
    "                arr[j], arr[j + 1] = arr[j + 1], arr[j]\n",
    "    return arr\n",
    "\n",
    "\n",
    "# Example usage\n",
    "data = [64, 34, 25, 12, 22, 11, 90]\n",
    "print(\"Unsorted:\", data)\n",
    "print(\"Sorted:\", bubble_sort(data))\n",
    "\n",
    "# More optimised code with a flag to check if any swaps were made\n",
    "def bubble_sort_optimized(arr):\n",
    "    n = len(arr)\n",
    "    for i in range(n):\n",
    "        swapped = False\n",
    "        for j in range(0, n - i - 1):\n",
    "            if arr[j] > arr[j + 1]:\n",
    "                arr[j], arr[j + 1] = arr[j + 1], arr[j]\n",
    "                swapped = True\n",
    "        if not swapped:  # No swaps → already sorted\n",
    "            break\n",
    "    return arr\n"
   ]
  },
  {
   "cell_type": "markdown",
   "id": "2ef2d000",
   "metadata": {},
   "source": [
    "![alt text](image-8.png)"
   ]
  },
  {
   "cell_type": "markdown",
   "id": "9da915df",
   "metadata": {},
   "source": [
    "# Selection sort:\n",
    "- Selection Sort works by repeatedly finding the minimum element from the unsorted part of the array and putting it in the correct position.\n",
    "- Unlike Bubble Sort (which swaps many times), Selection Sort minimizes swaps by doing at most n-1 swaps.\n",
    "\n",
    "# Complexity\n",
    "- Time Complexity:\n",
    "    - Best Case: O(n²)\n",
    "    - Average Case: O(n²)\n",
    "    - Worst Case: O(n²)\n",
    "- Space Complexity: O(1) (in-place sort).\n",
    "    - Swaps: At most (n-1), better than Bubble Sort."
   ]
  },
  {
   "cell_type": "code",
   "execution_count": 2,
   "id": "54c24a99",
   "metadata": {},
   "outputs": [
    {
     "name": "stdout",
     "output_type": "stream",
     "text": [
      "Unsorted: [64, 25, 12, 22, 11]\n",
      "Sorted: [11, 12, 22, 25, 64]\n"
     ]
    }
   ],
   "source": [
    "def selection_sort(arr):\n",
    "    n = len(arr)\n",
    "    for i in range(n):\n",
    "        min_index = i\n",
    "        # Find the minimum in the unsorted part\n",
    "        for j in range(i + 1, n):\n",
    "            if arr[j] < arr[min_index]:\n",
    "                min_index = j\n",
    "        # Swap the found minimum with the first element\n",
    "        arr[i], arr[min_index] = arr[min_index], arr[i]\n",
    "    return arr\n",
    "\n",
    "# Example usage\n",
    "data = [64, 25, 12, 22, 11]\n",
    "print(\"Unsorted:\", data)\n",
    "print(\"Sorted:\", selection_sort(data))\n"
   ]
  },
  {
   "cell_type": "markdown",
   "id": "1c7e8a31",
   "metadata": {},
   "source": [
    "![alt text](image-9.png)"
   ]
  },
  {
   "cell_type": "markdown",
   "id": "17fcbaff",
   "metadata": {},
   "source": [
    "# Insertion Sort:\n",
    "- *Insertion* Sort works the way you sort playing cards in your hand.\n",
    "- You build the sorted array one element at a time by inserting each element into its correct position.\n",
    "- Good for small or nearly sorted arrays.\n",
    "- It starts from index-1 and compares it with previous elements and places it in the correct position.\n",
    "\n",
    "# Complexity\n",
    "- Time Complexity:\n",
    "    - Best Case (already sorted): O(n)\n",
    "    - Average Case: O(n²)\n",
    "    - Worst Case (reverse sorted): O(n²)\n",
    "- Space Complexity: O(1) (in-place)\n",
    "- Stability: Stable Sort (keeps order of equal elements)."
   ]
  },
  {
   "cell_type": "code",
   "execution_count": null,
   "id": "a30ca0bd",
   "metadata": {},
   "outputs": [
    {
     "name": "stdout",
     "output_type": "stream",
     "text": [
      "Unsorted: [12, 11, 13, 5, 6]\n",
      "Sorted: [5, 6, 11, 12, 13]\n"
     ]
    }
   ],
   "source": [
    "def insertion_sort(arr):\n",
    "    for i in range(1, len(arr)):\n",
    "        key = arr[i]  # Current element to insert\n",
    "        j = i - 1\n",
    "        # Shift larger elements to the right\n",
    "        while j >= 0 and key < arr[j]:\n",
    "            arr[j + 1] = arr[j]\n",
    "            j -= 1\n",
    "        arr[j + 1] = key  # Insert key at correct position\n",
    "    return arr\n",
    "\n",
    "# Example usage\n",
    "data = [12, 11, 13, 5, 6]\n",
    "print(\"Unsorted:\", data)\n",
    "print(\"Sorted:\", insertion_sort(data))"
   ]
  },
  {
   "cell_type": "markdown",
   "id": "f11db084",
   "metadata": {},
   "source": [
    "![alt text](image-11.png)"
   ]
  },
  {
   "cell_type": "markdown",
   "id": "3799b281",
   "metadata": {},
   "source": [
    "# Merge Sort (Divide and Conquer):\n",
    "- Merge Sort uses the Divide and Conquer strategy.\n",
    "- It works by:\n",
    "    - Dividing the array into two halves until each sub-array has one element.\n",
    "    - Conquering by recursively sorting the two halves.\n",
    "    - Merging the sorted halves back together.\n",
    "\n",
    "# Complexity\n",
    "- Time Complexity:\n",
    "    - Best Case: O(n log n)\n",
    "    - Average Case: O(n log n)\n",
    "    - Worst Case: O(n log n)\n",
    "- Space Complexity: O(n) (extra arrays used for merging).\n",
    "- Stable Sort.\n"
   ]
  },
  {
   "cell_type": "code",
   "execution_count": 5,
   "id": "1e186070",
   "metadata": {},
   "outputs": [
    {
     "name": "stdout",
     "output_type": "stream",
     "text": [
      "Unsorted: [38, 27, 43, 10]\n",
      "Sorted: [10, 27, 38, 43]\n"
     ]
    }
   ],
   "source": [
    "def merge_sort(arr):\n",
    "    if len(arr) > 1:\n",
    "        mid = len(arr) // 2  # Find midpoint\n",
    "        left_half = arr[:mid]\n",
    "        right_half = arr[mid:]\n",
    "\n",
    "        # Recursive sort\n",
    "        merge_sort(left_half)\n",
    "        merge_sort(right_half)\n",
    "\n",
    "        # Merge process\n",
    "        i = j = k = 0\n",
    "        while i < len(left_half) and j < len(right_half):\n",
    "            if left_half[i] < right_half[j]:\n",
    "                arr[k] = left_half[i]\n",
    "                i += 1\n",
    "            else:\n",
    "                arr[k] = right_half[j]\n",
    "                j += 1\n",
    "            k += 1\n",
    "\n",
    "        # Copy remaining elements\n",
    "        while i < len(left_half):\n",
    "            arr[k] = left_half[i]\n",
    "            i += 1\n",
    "            k += 1\n",
    "\n",
    "        while j < len(right_half):\n",
    "            arr[k] = right_half[j]\n",
    "            j += 1\n",
    "            k += 1\n",
    "    return arr\n",
    "# Example usage\n",
    "data = [38, 27, 43, 10]\n",
    "print(\"Unsorted:\", data)\n",
    "print(\"Sorted:\", merge_sort(data))\n"
   ]
  },
  {
   "cell_type": "markdown",
   "id": "ca3308f8",
   "metadata": {},
   "source": [
    "![alt text](image-12.png)"
   ]
  },
  {
   "cell_type": "markdown",
   "id": "c9b554db",
   "metadata": {},
   "source": [
    "# Quick Sort (Divide and Conquer):\n",
    "- Quick Sort is another Divide and Conquer algorithm.\n",
    "- It works by:\n",
    "    - Choosing a \"pivot\" element.\n",
    "    - Partitioning the array so that elements less than the pivot are on the left, and elements greater than the pivot are on the right.\n",
    "    - Recursively applying the same logic to the left and right sub-arrays.\n",
    "\n",
    "- Time complexity:\n",
    "    - Best Case: O(n log n)\n",
    "    - Average Case: O(n log n)\n",
    "    - Worst Case (if pivot is always the smallest or largest): O(n²) → can be mitigated with good pivot selection (e.g., random pivot)."
   ]
  },
  {
   "cell_type": "code",
   "execution_count": 8,
   "id": "4007bd54",
   "metadata": {},
   "outputs": [
    {
     "name": "stdout",
     "output_type": "stream",
     "text": [
      "Unsorted: [10, 7, 8, 9, 1, 5]\n",
      "Sorted: [1, 5, 7, 8, 9, 10]\n"
     ]
    }
   ],
   "source": [
    "import random\n",
    "\n",
    "def quick_sort(arr):\n",
    "    if len(arr) <= 1:\n",
    "        return arr\n",
    "    \n",
    "    pivot = random.choice(arr)  # Choose a pivot\n",
    "    left = [x for x in arr if x < pivot]  # Elements less than pivot\n",
    "    middle = [x for x in arr if x == pivot]  # Elements equal to pivot\n",
    "    right = [x for x in arr if x > pivot]  # Elements greater than pivot\n",
    "    return quick_sort(left) + middle + quick_sort(right)\n",
    "\n",
    "# Example usage\n",
    "data = [10, 7, 8, 9, 1, 5]\n",
    "print(\"Unsorted:\", data)\n",
    "print(\"Sorted:\", quick_sort(data))\n"
   ]
  },
  {
   "cell_type": "markdown",
   "id": "8bbff6f7",
   "metadata": {},
   "source": [
    "![alt text](image-13.png)"
   ]
  },
  {
   "cell_type": "markdown",
   "id": "14f8b71e",
   "metadata": {},
   "source": []
  }
 ],
 "metadata": {
  "kernelspec": {
   "display_name": "Python 3",
   "language": "python",
   "name": "python3"
  },
  "language_info": {
   "codemirror_mode": {
    "name": "ipython",
    "version": 3
   },
   "file_extension": ".py",
   "mimetype": "text/x-python",
   "name": "python",
   "nbconvert_exporter": "python",
   "pygments_lexer": "ipython3",
   "version": "3.13.5"
  }
 },
 "nbformat": 4,
 "nbformat_minor": 5
}
