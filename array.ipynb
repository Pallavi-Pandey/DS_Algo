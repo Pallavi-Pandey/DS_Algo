{
 "cells": [
  {
   "cell_type": "code",
   "execution_count": null,
   "id": "e8cdb4bf",
   "metadata": {},
   "outputs": [
    {
     "name": "stdout",
     "output_type": "stream",
     "text": [
      "0\n"
     ]
    }
   ],
   "source": [
    "# Min value code\n",
    "arr = [0,1,2,3,4]\n",
    "Minvalue = arr[0]\n",
    "for i in arr:\n",
    "    if i < Minvalue:\n",
    "        Minvalue = i\n",
    "print(Minvalue)"
   ]
  },
  {
   "cell_type": "code",
   "execution_count": 29,
   "id": "877dce6b",
   "metadata": {},
   "outputs": [
    {
     "name": "stdout",
     "output_type": "stream",
     "text": [
      "1\n",
      "2\n",
      "3\n",
      "4\n",
      "5\n"
     ]
    }
   ],
   "source": [
    "import array as ar\n",
    "\n",
    "# array.array(typecode, initializer)\n",
    "arr = ar.array('i', [1,2,3,4,5])\n",
    "# arr = ar.array('f', [1.0,2.0,3.0,4.0,5.0])\n",
    "# arr = ar.array('u', \"abc\")\n",
    "# print(arr.typecode) # it is used for telling the type of array\n",
    "for i in range(len(arr)):\n",
    "    print(arr[i])\n"
   ]
  },
  {
   "cell_type": "code",
   "execution_count": 32,
   "id": "9e231996",
   "metadata": {},
   "outputs": [
    {
     "name": "stdout",
     "output_type": "stream",
     "text": [
      "array('i', [0, 5, 1, 2, 3, 4])\n"
     ]
    }
   ],
   "source": [
    "#  inserting program in array\n",
    "import array as ar\n",
    "\n",
    "lis = [0,1,2,3,4]\n",
    "n = int(input(\"enter the number to add:\"))\n",
    "pos = int(input(\"Enter the target:\"))\n",
    "arr = ar.array('i', lis)\n",
    "arr.append(0)\n",
    "for i in range(pos,len(arr)):\n",
    "    temp = arr[i]\n",
    "    arr[i] = n\n",
    "    n = temp\n",
    "print(arr)"
   ]
  },
  {
   "cell_type": "code",
   "execution_count": null,
   "id": "f9f09dc0",
   "metadata": {},
   "outputs": [],
   "source": [
    "# Funtions using with array\n",
    "import array as ar\n",
    "\n",
    "arr = ar.array('i', [1,2,3,4,5])\n",
    "arr.insert(2,6)\n",
    "arr.pop(2)\n",
    "arr.append(6)"
   ]
  },
  {
   "cell_type": "code",
   "execution_count": 9,
   "id": "6a62880e",
   "metadata": {},
   "outputs": [
    {
     "name": "stdout",
     "output_type": "stream",
     "text": [
      "array('i', [9, 0, 6])\n",
      "[9, 0, 6]\n",
      "[9, 0, 6] == [9, 0, 6]\n",
      "Rotatable\n"
     ]
    }
   ],
   "source": [
    "# Check if a number is rotatable as inverted - stromogramettic number\n",
    "import array as arr\n",
    "arr = arr.array('i', [9,0,6])\n",
    "print(arr)\n",
    "arr = [i for i in arr]\n",
    "print(arr)\n",
    "invertimage = {0:0,1:1,6:9,8:8,9:6}\n",
    "rotatable = True\n",
    "for i in arr:\n",
    "    if i not in invertimage:\n",
    "        rotatable = False\n",
    "        break    \n",
    "if rotatable:\n",
    "    rotated = [invertimage[i] for i in arr[::-1]]\n",
    "    if rotated == arr:\n",
    "        print(arr,\"==\",rotated)\n",
    "        print(\"Rotatable\")\n",
    "    else:\n",
    "        print(\"Not Rotatable\")    \n",
    "else:\n",
    "    print(\"Not Rotatable\")"
   ]
  }
 ],
 "metadata": {
  "kernelspec": {
   "display_name": ".venv",
   "language": "python",
   "name": "python3"
  },
  "language_info": {
   "codemirror_mode": {
    "name": "ipython",
    "version": 3
   },
   "file_extension": ".py",
   "mimetype": "text/x-python",
   "name": "python",
   "nbconvert_exporter": "python",
   "pygments_lexer": "ipython3",
   "version": "3.13.7"
  }
 },
 "nbformat": 4,
 "nbformat_minor": 5
}
