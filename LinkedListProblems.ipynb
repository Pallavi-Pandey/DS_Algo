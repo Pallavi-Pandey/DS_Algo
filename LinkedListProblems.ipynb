{
 "cells": [
  {
   "cell_type": "markdown",
   "id": "5f2e8031",
   "metadata": {},
   "source": [
    "# Code for Single linked list traverse"
   ]
  },
  {
   "cell_type": "code",
   "execution_count": 1,
   "id": "0a41ef64",
   "metadata": {},
   "outputs": [
    {
     "name": "stdout",
     "output_type": "stream",
     "text": [
      "7 -> 11 -> 3 -> 2 -> 9 -> null\n"
     ]
    }
   ],
   "source": [
    "class Node:\n",
    "    def __init__(self, data):\n",
    "        self.data = data\n",
    "        self.next = None\n",
    "\n",
    "def traverseAndPrint(head):\n",
    "    currentNode = head\n",
    "    while currentNode:\n",
    "        print(currentNode.data, end=\" -> \")\n",
    "        currentNode = currentNode.next\n",
    "    print(\"null\")\n",
    "\n",
    "node1 = Node(7)\n",
    "node2 = Node(11)\n",
    "node3 = Node(3)\n",
    "node4 = Node(2)\n",
    "node5 = Node(9)\n",
    "\n",
    "node1.next = node2\n",
    "node2.next = node3\n",
    "node3.next = node4\n",
    "node4.next = node5\n",
    "\n",
    "traverseAndPrint(node1)"
   ]
  },
  {
   "cell_type": "markdown",
   "id": "9586acfc",
   "metadata": {},
   "source": [
    "# Code for Deleting\n",
    "\n"
   ]
  },
  {
   "cell_type": "code",
   "execution_count": 2,
   "id": "2ac3d763",
   "metadata": {},
   "outputs": [
    {
     "name": "stdout",
     "output_type": "stream",
     "text": [
      "Before deletion:\n",
      "7 -> 11 -> 3 -> 2 -> 9 -> null\n",
      "Visiting node: 7 -> Next: 11\n",
      "Visiting node: 11 -> Next: 3\n",
      "Deleting node: 2\n",
      "\n",
      "After deletion:\n",
      "7 -> 11 -> 3 -> 9 -> null\n"
     ]
    }
   ],
   "source": [
    "class Node:\n",
    "    def __init__(self, data):\n",
    "        self.data = data\n",
    "        self.next = None\n",
    "\n",
    "def traverseAndPrint(head):\n",
    "    currentNode = head\n",
    "    while currentNode:\n",
    "        print(currentNode.data, end=\" -> \")\n",
    "        currentNode = currentNode.next\n",
    "    print(\"null\")\n",
    "\n",
    "def deleteSpecificNode(head, nodeToDelete):\n",
    "    # If the node to delete is the head\n",
    "    if head == nodeToDelete:\n",
    "        print(f\"Deleting head node: {head.data}\")\n",
    "        return head.next\n",
    "\n",
    "    current = head\n",
    "    while current.next and current.next != nodeToDelete:\n",
    "        print(f\"Visiting node: {current.data} -> Next: {current.next.data}\")  # 👈 print here\n",
    "        current = current.next\n",
    "\n",
    "    # If node not found\n",
    "    if current.next is None:\n",
    "        print(\"Node to delete not found.\")\n",
    "        return head\n",
    "\n",
    "    # Deleting node\n",
    "    print(f\"Deleting node: {current.next.data}\")\n",
    "    current.next = current.next.next\n",
    "    return head\n",
    "\n",
    "\n",
    "# Example usage\n",
    "node1 = Node(7)\n",
    "node2 = Node(11)\n",
    "node3 = Node(3)\n",
    "node4 = Node(2)\n",
    "node5 = Node(9)\n",
    "\n",
    "node1.next = node2\n",
    "node2.next = node3\n",
    "node3.next = node4\n",
    "node4.next = node5\n",
    "\n",
    "print(\"Before deletion:\")\n",
    "traverseAndPrint(node1)\n",
    "\n",
    "# Delete node4 (data = 2)\n",
    "node1 = deleteSpecificNode(node1, node4)\n",
    "\n",
    "print(\"\\nAfter deletion:\")\n",
    "traverseAndPrint(node1)\n"
   ]
  },
  {
   "cell_type": "markdown",
   "id": "02d96d7e",
   "metadata": {},
   "source": [
    "# Finding Lowest value sin the LinkedList"
   ]
  },
  {
   "cell_type": "code",
   "execution_count": 3,
   "id": "029a57a2",
   "metadata": {},
   "outputs": [
    {
     "name": "stdout",
     "output_type": "stream",
     "text": [
      "The lowest value in the linked list is: 2\n"
     ]
    }
   ],
   "source": [
    "class Node:\n",
    "    def __init__(self, data):\n",
    "        self.data = data\n",
    "        self.next = None\n",
    "\n",
    "def findLowestValue(head):\n",
    "    minValue = head.data\n",
    "    currentNode = head.next\n",
    "    while currentNode:\n",
    "        if currentNode.data < minValue:\n",
    "            minValue = currentNode.data\n",
    "        currentNode = currentNode.next\n",
    "    return minValue\n",
    "\n",
    "node1 = Node(7)\n",
    "node2 = Node(11)\n",
    "node3 = Node(3)\n",
    "node4 = Node(2)\n",
    "node5 = Node(9)\n",
    "\n",
    "node1.next = node2\n",
    "node2.next = node3\n",
    "node3.next = node4\n",
    "node4.next = node5\n",
    "\n",
    "print(\"The lowest value in the linked list is:\", findLowestValue(node1))"
   ]
  },
  {
   "cell_type": "markdown",
   "id": "de92ff3a",
   "metadata": {},
   "source": [
    "# Code for Inserting the Node in the LinkedList"
   ]
  },
  {
   "cell_type": "code",
   "execution_count": 5,
   "id": "f055d1df",
   "metadata": {},
   "outputs": [
    {
     "name": "stdout",
     "output_type": "stream",
     "text": [
      "Original list:\n",
      "7 -> 3 -> 2 -> 9 -> null\n",
      "\n",
      "After insertion:\n",
      "7 -> 97 -> 3 -> 2 -> 9 -> null\n"
     ]
    }
   ],
   "source": [
    "class Node:\n",
    "    def __init__(self, data):\n",
    "        self.data = data\n",
    "        self.next = None\n",
    "\n",
    "def traverseAndPrint(head):\n",
    "    currentNode = head\n",
    "    while currentNode:\n",
    "        print(currentNode.data, end=\" -> \")\n",
    "        currentNode = currentNode.next\n",
    "    print(\"null\")\n",
    "\n",
    "def insertNodeAtPosition(head, newNode, position):\n",
    "    if position == 1:\n",
    "        newNode.next = head\n",
    "        return newNode\n",
    "    \n",
    "    currentNode = head\n",
    "    for _ in range(position - 2):\n",
    "        if currentNode is None:\n",
    "            break\n",
    "        currentNode = currentNode.next\n",
    "\n",
    "    newNode.next = currentNode.next\n",
    "    currentNode.next = newNode\n",
    "    return head\n",
    "\n",
    "node1 = Node(7)\n",
    "node2 = Node(3)\n",
    "node3 = Node(2)\n",
    "node4 = Node(9)\n",
    "\n",
    "node1.next = node2\n",
    "node2.next = node3\n",
    "node3.next = node4\n",
    "\n",
    "print(\"Original list:\")\n",
    "traverseAndPrint(node1)\n",
    "\n",
    "# Insert a new node with value 97 at position 2\n",
    "newNode = Node(97)\n",
    "node1 = insertNodeAtPosition(node1, newNode, 2)\n",
    "\n",
    "print(\"\\nAfter insertion:\")\n",
    "traverseAndPrint(node1)"
   ]
  }
 ],
 "metadata": {
  "kernelspec": {
   "display_name": ".venv",
   "language": "python",
   "name": "python3"
  },
  "language_info": {
   "codemirror_mode": {
    "name": "ipython",
    "version": 3
   },
   "file_extension": ".py",
   "mimetype": "text/x-python",
   "name": "python",
   "nbconvert_exporter": "python",
   "pygments_lexer": "ipython3",
   "version": "3.13.7"
  }
 },
 "nbformat": 4,
 "nbformat_minor": 5
}
